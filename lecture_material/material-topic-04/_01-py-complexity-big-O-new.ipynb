{
 "cells": [
  {
   "cell_type": "markdown",
   "metadata": {},
   "source": [
    "\n",
    "# <center>Python - Time Complexity, Big O, Space Complexity <a class=\"tocSkip\"></center>\n",
    "# <center>QTM 350: Data Science Computing <a class=\"tocSkip\"></center>    \n",
    "# <center>Davi Moreira <a class=\"tocSkip\"></center>"
   ]
  },
  {
   "cell_type": "markdown",
   "metadata": {},
   "source": [
    "## Introduction <a class=\"tocSkip\">\n",
    "<hr>\n",
    "\n",
    "\n",
    "This topic material is based on [Professor Mike Gelbart Algorithms and Data Structures course](https://github.com/UBC-MDS/DSCI_512_alg-data-struct). It was adapted for our purposes."
   ]
  },
  {
   "cell_type": "markdown",
   "metadata": {},
   "source": [
    "## Lecture learning objectives\n",
    "\n",
    "- Given code, determine the time and space complexity using Big-O notation.\n",
    "- Classify an algorithm into one of the common complexity classes (e.g. constant, logarithmic, linear, quadratic, etc.).\n",
    "- Contrast time and space complexity.\n",
    "- Measure the amount of time code in Python takes using `timeit` or the `time` library.\n",
    "- Maintain an awareness that choosing a good algorithm matters, sometimes _a lot_!"
   ]
  },
  {
   "cell_type": "code",
   "execution_count": null,
   "metadata": {},
   "outputs": [],
   "source": [
    "import numpy as np\n",
    "import pandas as pd\n",
    "\n",
    "import matplotlib.pyplot as plt"
   ]
  },
  {
   "cell_type": "markdown",
   "metadata": {},
   "source": [
    "## Code demos"
   ]
  },
  {
   "cell_type": "markdown",
   "metadata": {},
   "source": [
    "### Demo 1: searching (list vs. set)\n",
    "\n",
    "- Common problem: is a certain value present in a collection of items?"
   ]
  },
  {
   "cell_type": "code",
   "execution_count": null,
   "metadata": {},
   "outputs": [],
   "source": [
    "n = 10_000_000\n",
    "x = list(range(n))"
   ]
  },
  {
   "cell_type": "code",
   "execution_count": null,
   "metadata": {},
   "outputs": [],
   "source": [
    "-1 in x"
   ]
  },
  {
   "cell_type": "code",
   "execution_count": null,
   "metadata": {},
   "outputs": [],
   "source": [
    "%timeit (-1 in x)"
   ]
  },
  {
   "cell_type": "code",
   "execution_count": null,
   "metadata": {},
   "outputs": [],
   "source": [
    "x = set(range(n))"
   ]
  },
  {
   "cell_type": "code",
   "execution_count": null,
   "metadata": {},
   "outputs": [],
   "source": [
    "-1 in x"
   ]
  },
  {
   "cell_type": "code",
   "execution_count": null,
   "metadata": {},
   "outputs": [],
   "source": [
    "%timeit (-1 in x)"
   ]
  },
  {
   "cell_type": "markdown",
   "metadata": {},
   "source": [
    "Questions we'll answer in this topic:\n",
    "\n",
    "- How could I have predicted this outcome?\n",
    "- What if I double the size of $n$: how much slower will the code be in each case? (Quantitative analysis)\n",
    "- Why did this happen? (not in detail)"
   ]
  },
  {
   "cell_type": "markdown",
   "metadata": {},
   "source": [
    "Note: we were cheating a little bit, because _creating_ the set takes longer than creating the list. However, as we can see, it's still fast."
   ]
  },
  {
   "cell_type": "markdown",
   "metadata": {},
   "source": [
    "### Demo 2: sorting (selection vs. quick)"
   ]
  },
  {
   "cell_type": "markdown",
   "metadata": {},
   "source": [
    "Aside: min vs. argmin"
   ]
  },
  {
   "cell_type": "code",
   "execution_count": null,
   "metadata": {},
   "outputs": [],
   "source": [
    "x = [4.2, 98.2, 9.0, 0.1, 30, 2.5, 2.6]"
   ]
  },
  {
   "cell_type": "code",
   "execution_count": null,
   "metadata": {},
   "outputs": [],
   "source": [
    "min(x)  # Python min"
   ]
  },
  {
   "cell_type": "code",
   "execution_count": null,
   "metadata": {},
   "outputs": [],
   "source": [
    "np.min(x)  # Numpy min: generally better if working with Numpy arays"
   ]
  },
  {
   "cell_type": "code",
   "execution_count": null,
   "metadata": {},
   "outputs": [],
   "source": [
    "np.argmin(x)"
   ]
  },
  {
   "cell_type": "code",
   "execution_count": null,
   "metadata": {},
   "outputs": [],
   "source": [
    "x[3]"
   ]
  },
  {
   "cell_type": "markdown",
   "metadata": {},
   "source": [
    "Above: `np.argmin` gives us the _index of_ the smallest value.\n",
    "\n",
    "Now, back to the demo."
   ]
  },
  {
   "cell_type": "code",
   "execution_count": null,
   "metadata": {},
   "outputs": [],
   "source": [
    "n = 20_000\n",
    "x = list(range(n))"
   ]
  },
  {
   "cell_type": "code",
   "execution_count": null,
   "metadata": {},
   "outputs": [],
   "source": [
    "np.random.shuffle(x)"
   ]
  },
  {
   "cell_type": "code",
   "execution_count": null,
   "metadata": {},
   "outputs": [],
   "source": [
    "x[:10]"
   ]
  },
  {
   "cell_type": "code",
   "execution_count": null,
   "metadata": {},
   "outputs": [],
   "source": [
    "for i in range(n):\n",
    "    min_ind = np.argmin(x[i:]) + i\n",
    "    x[i], x[min_ind] = x[min_ind], x[i] # swap"
   ]
  },
  {
   "cell_type": "code",
   "execution_count": null,
   "metadata": {},
   "outputs": [],
   "source": [
    "x[:10]"
   ]
  },
  {
   "cell_type": "code",
   "execution_count": null,
   "metadata": {},
   "outputs": [],
   "source": [
    "np.random.shuffle(x)"
   ]
  },
  {
   "cell_type": "code",
   "execution_count": null,
   "metadata": {},
   "outputs": [],
   "source": [
    "x[:10]"
   ]
  },
  {
   "cell_type": "code",
   "execution_count": null,
   "metadata": {},
   "outputs": [],
   "source": [
    "x.sort()"
   ]
  },
  {
   "cell_type": "code",
   "execution_count": null,
   "metadata": {},
   "outputs": [],
   "source": [
    "x[:10]"
   ]
  },
  {
   "cell_type": "markdown",
   "metadata": {},
   "source": [
    "Questions we'll answer in this topic:\n",
    "\n",
    "- How could I have predicted this outcome?\n",
    "- What if I double the size of $n$, how much slower will the code be in each case? (Quantitative analysis)\n",
    "- Why did this happen? (not in detail)"
   ]
  },
  {
   "cell_type": "markdown",
   "metadata": {},
   "source": [
    "### Demo 3: batch operations (loop vs. vectorized)"
   ]
  },
  {
   "cell_type": "code",
   "execution_count": null,
   "metadata": {},
   "outputs": [],
   "source": [
    "n = 10_000_000\n",
    "x = np.random.rand(n)\n",
    "y = np.zeros(n)"
   ]
  },
  {
   "cell_type": "code",
   "execution_count": null,
   "metadata": {},
   "outputs": [],
   "source": [
    "x.shape"
   ]
  },
  {
   "cell_type": "code",
   "execution_count": null,
   "metadata": {},
   "outputs": [],
   "source": [
    "y.shape"
   ]
  },
  {
   "cell_type": "code",
   "execution_count": null,
   "metadata": {},
   "outputs": [],
   "source": [
    "x[:10]"
   ]
  },
  {
   "cell_type": "code",
   "execution_count": null,
   "metadata": {},
   "outputs": [],
   "source": [
    "y[:10]"
   ]
  },
  {
   "cell_type": "code",
   "execution_count": null,
   "metadata": {},
   "outputs": [],
   "source": [
    "for i in range(n):\n",
    "    y[i] = x[i] * 2"
   ]
  },
  {
   "cell_type": "code",
   "execution_count": null,
   "metadata": {},
   "outputs": [],
   "source": [
    "x = np.random.rand(n)\n",
    "y = np.zeros(n)"
   ]
  },
  {
   "cell_type": "code",
   "execution_count": null,
   "metadata": {},
   "outputs": [],
   "source": [
    "y = x * 2"
   ]
  },
  {
   "cell_type": "markdown",
   "metadata": {},
   "source": [
    "Questions we'll answer in this topic:\n",
    "\n",
    "- How could I have predicted this outcome?\n",
    "- What if I double the size of $n$, how much slower will the code be in each case? (Quantitative analysis)\n",
    "- Why did this happen? (not in detail)"
   ]
  },
  {
   "cell_type": "markdown",
   "metadata": {},
   "source": [
    "In this topic our objective is to talk about:\n",
    "    \n",
    "    1. Good Data Structure;\n",
    "    2. Good Algorithms;\n",
    "    3. Good Implementation;"
   ]
  },
  {
   "cell_type": "markdown",
   "metadata": {},
   "source": [
    "## Time complexity "
   ]
  },
  {
   "cell_type": "markdown",
   "metadata": {},
   "source": [
    "- We'll focus on the 2nd question about: how does the runtime change as a function of $n$?\n",
    "- For now, let's ask ourselves: \"if we double $n$, what happens to the number of steps?\""
   ]
  },
  {
   "cell_type": "markdown",
   "metadata": {},
   "source": [
    "### Examples from the above demos\n",
    "\n",
    "For each of the following, what happens to the runtime if we double $n$?\n",
    "\n",
    "**Operation:** Finding whether a number is in a list.\n",
    "<br><br><br><br><br><br>\n",
    "**Answer:** it doubles.\n",
    "<br>\n"
   ]
  },
  {
   "cell_type": "markdown",
   "metadata": {},
   "source": [
    "**Operation:** Finding whether a number is in a set.\n",
    "<br><br><br><br><br><br>\n",
    "**Answer:** it stays roughly the same.\n",
    "<br>"
   ]
  },
  {
   "cell_type": "markdown",
   "metadata": {},
   "source": [
    "**Operation:** Sorting with my code.\n",
    "<br><br><br><br><br><br>\n",
    "**Answer:** it quadruples (4x)\n",
    "<br><br>"
   ]
  },
  {
   "cell_type": "markdown",
   "metadata": {},
   "source": [
    "**Operation:** Sorting with `sort`.\n",
    "<br><br><br><br><br><br>\n",
    "**Answer:** it slightly more than doubles\n",
    "<br><br>"
   ]
  },
  {
   "cell_type": "markdown",
   "metadata": {},
   "source": [
    "**Operation:** Doubling an array with a loop.\n",
    "<br><br><br><br><br><br>\n",
    "**Answer:** it doubles\n",
    "<br><br>  \n",
    "  "
   ]
  },
  {
   "cell_type": "markdown",
   "metadata": {},
   "source": [
    "**Operation:** Doubling an array with numpy.\n",
    "<br><br><br><br><br><br>\n",
    "**Answer:** it doubles (but is much faster than with a loop!)\n",
    "<br><br>  \n",
    "\n",
    "  \n"
   ]
  },
  {
   "cell_type": "markdown",
   "metadata": {},
   "source": [
    "These scenarios form part of the roadmap of the topic - by the end we'll hopefully have explored most of them."
   ]
  },
  {
   "cell_type": "markdown",
   "metadata": {},
   "source": [
    "## Big O notation - intro\n",
    "\n",
    "- We will formalize time complexity using _Big O notation_. \n",
    "  - In addition to $O$, there is also $o$, $\\omega$, $\\Omega$, $\\theta$, $\\Theta$, and more. But Big O is the most common and we'll only discuss Big O.\n",
    "  - We will not go into the mathematical details but if you're interested, you can read about it online (e.g. the [Wikipedia article](https://en.wikipedia.org/wiki/Big_O_notation)).\n",
    "- The Big O tells us the **approximate number of steps** an algorithm performs **as a function of the input size** (i.e. $n$ above).\n"
   ]
  },
  {
   "cell_type": "code",
   "execution_count": null,
   "metadata": {},
   "outputs": [],
   "source": [
    "for i in range(n):\n",
    "    for j in range(n):\n",
    "        print(i, j)"
   ]
  },
  {
   "cell_type": "markdown",
   "metadata": {},
   "source": [
    "### Common runtimes\n",
    "\n",
    "| Big O  &nbsp; &nbsp; &nbsp; &nbsp; &nbsp; &nbsp; &nbsp; &nbsp; &nbsp; &nbsp;&nbsp; &nbsp; &nbsp; &nbsp; &nbsp; &nbsp; &nbsp;  &nbsp; &nbsp; &nbsp;&nbsp; &nbsp; &nbsp; &nbsp; &nbsp; &nbsp; |  name  | change in runtime if I double $n$? |\n",
    "|-------|--------|-------|\n",
    "| $O(1)$ | constant | same |\n",
    "| $O(\\log n)$ | logarithmic | increased by a constant |\n",
    "| $O(n)$ | linear | 2x | \n",
    "| $O(n \\log n)$ | linearithmic | roughly 2x | \n",
    "| $O(n^2)$ | quadratic | 4x |\n",
    "| $O(n^3)$ | cubic | 8x |\n",
    "| $O(n^k)$ | polynomial | increase by a factor of $2^k$ | \n",
    "| $O(2^n)$ | exponential | squared |\n",
    "\n",
    "- We write $O(f(n))$ for some function $f(n)$.\n",
    "- You get the doubling time by taking $f(2n)/f(n)$.\n",
    "- E.g. if $f(n)=n^3$, then $f(2n)/f(n)=(2n)^3/n^3=8$. \n",
    "  - So if you double $n$, the running time goes up 8x.\n",
    "- For $O(2^n)$, increasing $n$ by 1 causes the runtime to double!\n",
    "\n",
    "Note: these are **common** cases of big O, but this list is not exhaustive."
   ]
  },
  {
   "cell_type": "markdown",
   "metadata": {},
   "source": [
    "#### Back to the examples from earlier \n",
    "\n",
    "For each of the following, what is the time complexity in Big O notation?\n",
    "\n",
    "- Finding whether a number is in a list."
   ]
  },
  {
   "cell_type": "markdown",
   "metadata": {
    "tags": []
   },
   "source": [
    "> Answer: $O(n)$"
   ]
  },
  {
   "cell_type": "markdown",
   "metadata": {},
   "source": [
    "- Finding whether a number is in a set."
   ]
  },
  {
   "cell_type": "markdown",
   "metadata": {
    "tags": []
   },
   "source": [
    "> Answer: $O(1)$ (more on this next week)\n"
   ]
  },
  {
   "cell_type": "markdown",
   "metadata": {},
   "source": [
    "- Sorting with my code.\n"
   ]
  },
  {
   "cell_type": "markdown",
   "metadata": {
    "tags": []
   },
   "source": [
    "> Answer: $O(n^2)$"
   ]
  },
  {
   "cell_type": "markdown",
   "metadata": {},
   "source": [
    "- Sorting with `sort`.\n"
   ]
  },
  {
   "cell_type": "markdown",
   "metadata": {
    "tags": []
   },
   "source": [
    "> Answer: $O(n \\log n)$ (more on this next class)"
   ]
  },
  {
   "cell_type": "markdown",
   "metadata": {},
   "source": [
    "- Doubling with a loop.\n"
   ]
  },
  {
   "cell_type": "markdown",
   "metadata": {
    "tags": []
   },
   "source": [
    "> Answer: $O(n)$"
   ]
  },
  {
   "cell_type": "markdown",
   "metadata": {},
   "source": [
    "- Doubling with numpy."
   ]
  },
  {
   "cell_type": "markdown",
   "metadata": {
    "tags": []
   },
   "source": [
    "> Answer: $O(n)$"
   ]
  },
  {
   "cell_type": "markdown",
   "metadata": {},
   "source": [
    "### Constant factors are not important\n",
    "\n",
    "- In Big O notation, we ignore multiplicative constants.\n",
    "  - If an algorithm takes $2n$ steps, we write $O(n)$, not $O(2n$).\n",
    "  - We're interested in how the runtime grows, not the exact runtime.\n",
    "- In Big O notation, we ignore \"lower order\" terms, including additive constants.\n",
    "  - If the number of steps is $n+5$, we write $O(n)$ not $O(n+5)$\n",
    "  - If the number of steps is $n+\\log n$, we write $O(n)$ not $O(n+\\log n)$\n",
    "  - We're interested in the growth when $n$ is large.\n",
    "  - The lower order terms stop being important when $n$ is large. \n",
    "  - But they might be important when $n$ is small!\n",
    "- As such, Big O complexities can be misleading at times.\n",
    "  - Is code that runs in $O(\\log n)$ time faster than code that runs in $O(n)$ time?\n",
    "  - Not always! It depends on the details.\n",
    "  - $10000\\log n$ is more than $0.001n$ for small values of $n$.\n",
    "  - You will see an example of this phenomenon in lab 2."
   ]
  },
  {
   "cell_type": "markdown",
   "metadata": {},
   "source": [
    "## Visualizing time complexities "
   ]
  },
  {
   "cell_type": "code",
   "execution_count": null,
   "metadata": {
    "jupyter": {
     "source_hidden": true
    },
    "tags": []
   },
   "outputs": [],
   "source": [
    "n = np.arange(1, 30, 0.1)\n",
    "\n",
    "times = {\n",
    "    '$O(1)$': 0*n+1,\n",
    "    r'$O(\\log n)$': np.log(n),  # raw string literal\n",
    "    '$O(n)$': n,\n",
    "    r'$O(n \\log n)$': n*np.log(n),  # raw string literal\n",
    "    '$O(n^2)$': n**2.,\n",
    "    '$O(n^3)$': n**3.,\n",
    "    '$O(2^n)$': 2.**n\n",
    "}\n",
    "\n",
    "for name, t in times.items():\n",
    "    plt.plot(n, t, label=name)\n",
    "plt.legend();\n",
    "plt.xlabel('n');\n",
    "plt.ylabel('running time');"
   ]
  },
  {
   "cell_type": "markdown",
   "metadata": {},
   "source": [
    "It is also common to look at log-log plots:"
   ]
  },
  {
   "cell_type": "code",
   "execution_count": null,
   "metadata": {
    "jupyter": {
     "source_hidden": true
    },
    "tags": []
   },
   "outputs": [],
   "source": [
    "for name, t in times.items():\n",
    "    plt.loglog(n, t, label=name)\n",
    "plt.legend();\n",
    "plt.xlabel('n');\n",
    "plt.ylabel('running time');"
   ]
  },
  {
   "cell_type": "markdown",
   "metadata": {},
   "source": [
    "- Above: we see that $2^n$ (exponential) is by far the biggest! \n",
    "- Let's remove $2^n$ so we can see the rest of the log-log plot more clearly:"
   ]
  },
  {
   "cell_type": "code",
   "execution_count": null,
   "metadata": {
    "jupyter": {
     "source_hidden": true
    },
    "tags": []
   },
   "outputs": [],
   "source": [
    "for name, t in times.items():\n",
    "    if name != '$O(2^n)$':\n",
    "        plt.loglog(n, t, label=name)\n",
    "plt.legend();\n",
    "plt.xlabel('n');\n",
    "plt.ylabel('running time');"
   ]
  },
  {
   "cell_type": "markdown",
   "metadata": {},
   "source": [
    "In log-log plots, polynomials turn into straight lines, with slope equal to the exponent."
   ]
  },
  {
   "cell_type": "markdown",
   "metadata": {
    "tags": []
   },
   "source": [
    "## Example Big O analysis"
   ]
  },
  {
   "cell_type": "markdown",
   "metadata": {},
   "source": [
    "Find the time complexities of `f` and `g` below."
   ]
  },
  {
   "cell_type": "code",
   "execution_count": null,
   "metadata": {},
   "outputs": [],
   "source": [
    "def f(n):\n",
    "    for i in range(n):\n",
    "        for j in range(n):\n",
    "            print(i, j)"
   ]
  },
  {
   "cell_type": "code",
   "execution_count": null,
   "metadata": {},
   "outputs": [],
   "source": [
    "#%timeit f(2000)"
   ]
  },
  {
   "cell_type": "markdown",
   "metadata": {},
   "source": [
    "$O(n^2)$"
   ]
  },
  {
   "cell_type": "code",
   "execution_count": null,
   "metadata": {},
   "outputs": [],
   "source": [
    "def g(n):\n",
    "    for i in range(n):\n",
    "        print(i)\n",
    "    for j in range(n):\n",
    "        print(j)"
   ]
  },
  {
   "cell_type": "code",
   "execution_count": null,
   "metadata": {},
   "outputs": [],
   "source": [
    "#%timeit g(200_000)"
   ]
  },
  {
   "cell_type": "code",
   "execution_count": null,
   "metadata": {},
   "outputs": [],
   "source": [
    "# g(3)"
   ]
  },
  {
   "cell_type": "markdown",
   "metadata": {},
   "source": [
    "$O(n)$"
   ]
  },
  {
   "cell_type": "markdown",
   "metadata": {},
   "source": [
    "### How to determine the complexity?\n",
    "\n",
    "- With raw Python code, we can often \"count the number of loops\"\n",
    "  - A loop $n$ times gives $O(n)$\n",
    "  - A nested loop gives $O(n^2$)\n",
    "  - etc\n",
    "- However, we have to think about the functions we're using. "
   ]
  },
  {
   "cell_type": "markdown",
   "metadata": {},
   "source": [
    "### What factors affect the runtime?\n",
    "\n",
    "- What affects the Big O?\n",
    "  - Typically, just the algorithm.\n",
    "- What affects the constant?\n",
    "  - The algorithm.\n",
    "    - Does it take $n$ steps or $2n$ steps or $100000n$ steps?\n",
    "    - How complicated is each step?\n",
    "  - The _implementation_.\n",
    "    - How fast is your programming language?\n",
    "    - How fast are your libraries (e.g. Numpy)?\n",
    "    - How fast is your laptop?\n",
    "    - Is there an opportunity for parallel computation?\n",
    "- The implementation issues are quite complicated. \n",
    "  - More on this later."
   ]
  },
  {
   "cell_type": "markdown",
   "metadata": {
    "tags": []
   },
   "source": [
    "## Lower order terms revisited \n",
    "\n",
    "Why is $O(n+\\log(n)+5)$ considered the same as $O(n)$?\n"
   ]
  },
  {
   "cell_type": "code",
   "execution_count": null,
   "metadata": {},
   "outputs": [],
   "source": [
    "plt.rcParams['font.size'] = 16"
   ]
  },
  {
   "cell_type": "code",
   "execution_count": null,
   "metadata": {
    "tags": []
   },
   "outputs": [],
   "source": [
    "n = np.arange(1,10, 0.1)\n",
    "plt.plot(n, label=\"n\")\n",
    "plt.plot(n+np.log(n)+5, label=\"n + log(n) + 5\")\n",
    "plt.legend();"
   ]
  },
  {
   "cell_type": "markdown",
   "metadata": {},
   "source": [
    "- What you can see here is that $n+\\log(n)+5$ starts curved but soon becomes linear-looking.\n",
    "- We call the $\\log(n)$ and the $5$ \"lower order terms\" because the grow more slowly than the dominant term ($n$)."
   ]
  },
  {
   "cell_type": "markdown",
   "metadata": {},
   "source": [
    "### For small n, the lower-order terms matter"
   ]
  },
  {
   "cell_type": "markdown",
   "metadata": {},
   "source": [
    "- Consider an algorithm that takes $100\\sqrt{n}$ steps vs. an algorithm that takes $n$ steps.\n",
    "- According to big O, the second one is a faster growing function, meaning the code will be slower.\n",
    "- Let's plot it:"
   ]
  },
  {
   "cell_type": "code",
   "execution_count": null,
   "metadata": {
    "tags": []
   },
   "outputs": [],
   "source": [
    "n = np.arange(1,100000)\n",
    "plt.plot(n, label=\"n\")\n",
    "plt.plot(100*np.sqrt(n), label=\"sqrt(n)\")\n",
    "plt.legend();"
   ]
  },
  {
   "cell_type": "markdown",
   "metadata": {},
   "source": [
    "- That seems to be true, $n$ grows faster than $\\sqrt{n}$.\n",
    "- But what if we zoom in:"
   ]
  },
  {
   "cell_type": "code",
   "execution_count": null,
   "metadata": {
    "tags": []
   },
   "outputs": [],
   "source": [
    "n = np.arange(1,1000)\n",
    "plt.plot(n, label=\"n\")\n",
    "plt.plot(100*np.sqrt(n), label=\"sqrt(n)\")\n",
    "plt.legend();"
   ]
  },
  {
   "cell_type": "markdown",
   "metadata": {},
   "source": [
    "- Actually, at first, the $100\\sqrt{n}$ algorithm is slower! \n",
    "- So, we can't ignore the lower order terms all the time, we can just ignore them a lot of the time.\n",
    "- Big O analysis isn't the be-all and end-all. It's just often useful."
   ]
  },
  {
   "cell_type": "markdown",
   "metadata": {},
   "source": [
    "### Addition vs. multiplication\n",
    "\n",
    "- How is $n+\\log(n)$ different from $n\\log(n)$\n",
    "- The first is $O(n)$, what about the second?\n",
    "\n",
    "<br><br><br><br>\n",
    "\n",
    "- The second is $O(n\\log(n))$. \n",
    "- In Big O analysis, we keep the biggest **term**. \n",
    "  - Where \"terms\" are things being added together (not multiplied!)\n",
    "- In the first case, the biggest term is $n$.\n",
    "- In the second case, the biggest (and only) term is $n \\log(n)$."
   ]
  },
  {
   "cell_type": "markdown",
   "metadata": {},
   "source": [
    "<br><br><br>"
   ]
  },
  {
   "cell_type": "markdown",
   "metadata": {},
   "source": [
    "## Big O with two variables "
   ]
  },
  {
   "cell_type": "markdown",
   "metadata": {},
   "source": [
    "Consider this code:"
   ]
  },
  {
   "cell_type": "code",
   "execution_count": null,
   "metadata": {},
   "outputs": [],
   "source": [
    "def fun(n,m):\n",
    "    for i in range(n):\n",
    "        for j in range(m):\n",
    "            print(\"Hello\")"
   ]
  },
  {
   "cell_type": "markdown",
   "metadata": {},
   "source": [
    "What is the time complexity?"
   ]
  },
  {
   "cell_type": "markdown",
   "metadata": {},
   "source": [
    "- The time complexity here is $O(nm)$. \n",
    "- If $m=n$  then it would be $O(n^2)$. \n",
    "- Note that everything should be combined in one big O \n",
    "  - it should be $O(nm)$ and not $O(n)O(m)$. \n",
    "- Likewise with addition, one would write $O(n+m)$ and not $O(n)+O(m)$.\n",
    "- $O(nm+m)$ would be just $O(nm)$\n",
    "  - $nm+m=(n+1)m$ and we don't make a distinction between $n$ and $n+1$\n",
    "- $O(n^2+n+m)$ would be just $O(n^2+m)$\n",
    "- $O(n^2+nm + m)$ would be $O(n^2+nm)$. We can't throw away either term because we don't know which will end up being the \"dominant\" factor."
   ]
  },
  {
   "cell_type": "markdown",
   "metadata": {},
   "source": [
    "- Example: in a data analysis course you have datasets with $n$ rows and $d$ columns.\n",
    "- How long does `fit()` take for a decision tree? \n",
    "- At least $O(nd)$ because that's how long it takes to look at the dataset.\n",
    "  - Actually it takes longer than this!\n",
    "  - But decision tree is a bit harder to analyze than some classifiers you'll learn next week.\n",
    "  - The actual runtime is something like $O(mnd \\log n)$ for a depth-$m$ tree."
   ]
  },
  {
   "cell_type": "markdown",
   "metadata": {},
   "source": [
    "## Worst/best/average cases \n",
    "\n",
    "Consider this code:"
   ]
  },
  {
   "cell_type": "code",
   "execution_count": null,
   "metadata": {},
   "outputs": [],
   "source": [
    "def find_0(x):\n",
    "    for x_i in x:\n",
    "        if x_i == 0:\n",
    "            return True\n",
    "    return False"
   ]
  },
  {
   "cell_type": "markdown",
   "metadata": {},
   "source": [
    "- If $n$ is the length of `x`, the runtime here is $O(n)$\n",
    "- But is it always? What if we know `x[0]` is always 0, for any $n$? Then it's $O(1)$.\n",
    "- What if the $0$ could be anywhere? Then it's $n/2$ on average which is $O(n)$.\n",
    "- Sometimes algorithms have different _best case_, _worst case_ and _average case_ runtimes. \n",
    "- In this topic we won't go into this distinction. We're generally referring to the average case, which often is the same complexity as the worst cases anyway."
   ]
  },
  {
   "cell_type": "markdown",
   "metadata": {},
   "source": [
    "## Space complexity"
   ]
  },
  {
   "cell_type": "markdown",
   "metadata": {},
   "source": [
    "- If code takes too long to run, that might be a problem.\n",
    "- Another possible problem is running out of memory.\n",
    "  - Note: this is NOT the same as \"disk space\"."
   ]
  },
  {
   "cell_type": "code",
   "execution_count": 10,
   "metadata": {},
   "outputs": [
    {
     "data": {
      "text/plain": [
       "svmem(total=17179869184, available=5296553984, percent=69.2, used=7738556416, free=196378624, active=5106237440, inactive=5065900032, wired=2632318976)"
      ]
     },
     "execution_count": 10,
     "metadata": {},
     "output_type": "execute_result"
    }
   ],
   "source": [
    "import psutil\n",
    "psutil.virtual_memory()"
   ]
  },
  {
   "cell_type": "markdown",
   "metadata": {},
   "source": [
    "- Apparently I have about 16 GB of RAM.\n",
    "- A number typically takes up 8 bytes, so I can store around 2 billion numbers.\n",
    "  - Actually less, because I have other stuff going on, not just Python.\n",
    "  - Plus, there's overhead from within Python.\n",
    "- If my code needs to store 2 billion numbers _at the same time_, I can't run it on my laptop. \n",
    "- We also analyze space complexity using Big O notation."
   ]
  },
  {
   "cell_type": "markdown",
   "metadata": {},
   "source": [
    "\n",
    "- With _time complexity_, we tend to think more about the _algorithms_.\n",
    "- With _space complexity_, we tend to think more about the _data structures_.\n",
    "\n"
   ]
  },
  {
   "cell_type": "markdown",
   "metadata": {},
   "source": [
    "Example 1:\n",
    "\n",
    "```python\n",
    "x = np.zeros(n)\n",
    "```\n",
    "\n",
    "<br><br><br>\n",
    "<br><br><br>\n",
    "Space complexity: $O(n)$\n",
    "\n"
   ]
  },
  {
   "cell_type": "markdown",
   "metadata": {},
   "source": [
    "Example 2:\n",
    "\n",
    "```python\n",
    "x = np.zeros((n,n))\n",
    "```\n",
    "\n",
    "<br><br><br>\n",
    "<br><br><br>\n",
    "Space complexity: $O(n^2)$\n",
    "\n"
   ]
  },
  {
   "cell_type": "markdown",
   "metadata": {},
   "source": [
    "Example 3:\n",
    "\n",
    "```python\n",
    "x = zeros((n,n,5))\n",
    "```\n",
    "\n",
    "<br><br><br>\n",
    "<br><br><br>\n",
    "Space complexity: $O(n^2)$\n",
    "\n"
   ]
  },
  {
   "cell_type": "markdown",
   "metadata": {},
   "source": [
    "Example 4:\n",
    "\n",
    "```python\n",
    "x = zeros((n,n,n))\n",
    "```\n",
    "\n",
    "<br><br><br>\n",
    "<br><br><br>\n",
    "Space complexity: $O(n^3)$"
   ]
  },
  {
   "cell_type": "code",
   "execution_count": 11,
   "metadata": {},
   "outputs": [],
   "source": [
    "x = np.zeros((3,3,3))"
   ]
  },
  {
   "cell_type": "code",
   "execution_count": null,
   "metadata": {},
   "outputs": [],
   "source": [
    "x.shape"
   ]
  },
  {
   "cell_type": "code",
   "execution_count": null,
   "metadata": {},
   "outputs": [],
   "source": [
    "x.size"
   ]
  },
  {
   "cell_type": "code",
   "execution_count": null,
   "metadata": {},
   "outputs": [],
   "source": [
    "np.prod(x.shape)"
   ]
  },
  {
   "cell_type": "markdown",
   "metadata": {},
   "source": [
    "Example 5:\n",
    "\n",
    "```python\n",
    "x = np.zeros(5)\n",
    "```\n",
    "\n",
    "<br><br><br>\n",
    "<br><br><br>\n",
    "Space complexity: $O(1)$\n",
    "\n"
   ]
  },
  {
   "cell_type": "markdown",
   "metadata": {},
   "source": [
    "Example 6 (time permitting): \n",
    "\n",
    "You have $n$ users on your social network site, and you want to store a \"level of friendship\" between every pair of users.\n",
    "\n",
    "<br><br><br>\n",
    "<br><br><br>\n",
    "Space complexity: $O(n^2)$\n",
    "\n"
   ]
  },
  {
   "cell_type": "markdown",
   "metadata": {},
   "source": [
    "Example 7 (time permitting):\n",
    "\n",
    "You have $n$ users on your social network site, and you want to store who is friends with who.\n",
    "\n",
    "<br><br><br>\n",
    "<br><br><br>\n",
    "Space complexity: it depends! If each user only has a constant (independent of $n$) number of friends, then $O(n)$. But in the worst case it could be $O(n^2)$. \n",
    "\n",
    "More on this in week 3!\n",
    "\n"
   ]
  },
  {
   "cell_type": "markdown",
   "metadata": {},
   "source": [
    "Subtlety about space complexity:"
   ]
  },
  {
   "cell_type": "code",
   "execution_count": null,
   "metadata": {},
   "outputs": [],
   "source": [
    "range(5)"
   ]
  },
  {
   "cell_type": "code",
   "execution_count": null,
   "metadata": {},
   "outputs": [],
   "source": [
    "list(range(5))"
   ]
  },
  {
   "cell_type": "code",
   "execution_count": null,
   "metadata": {},
   "outputs": [],
   "source": [
    "np.arange(5)"
   ]
  },
  {
   "cell_type": "code",
   "execution_count": null,
   "metadata": {},
   "outputs": [],
   "source": [
    "!jupyter nbconvert _01-py-complexity-big-O-new.ipynb --to html --template classic --output 01-py-complexity-big-O-new.html"
   ]
  },
  {
   "cell_type": "markdown",
   "metadata": {},
   "source": [
    "# <center>Thank you!<a class=\"tocSkip\"></center>"
   ]
  }
 ],
 "metadata": {
  "kernelspec": {
   "display_name": "Python 3 (ipykernel)",
   "language": "python",
   "name": "python3"
  },
  "language_info": {
   "codemirror_mode": {
    "name": "ipython",
    "version": 3
   },
   "file_extension": ".py",
   "mimetype": "text/x-python",
   "name": "python",
   "nbconvert_exporter": "python",
   "pygments_lexer": "ipython3",
   "version": "3.12.2"
  },
  "toc": {
   "base_numbering": 1,
   "nav_menu": {},
   "number_sections": true,
   "sideBar": false,
   "skip_h1_title": false,
   "title_cell": "Table of Contents",
   "title_sidebar": "Contents",
   "toc_cell": false,
   "toc_position": {},
   "toc_section_display": true,
   "toc_window_display": false
  },
  "varInspector": {
   "cols": {
    "lenName": 16,
    "lenType": 16,
    "lenVar": 40
   },
   "kernels_config": {
    "python": {
     "delete_cmd_postfix": "",
     "delete_cmd_prefix": "del ",
     "library": "var_list.py",
     "varRefreshCmd": "print(var_dic_list())"
    },
    "r": {
     "delete_cmd_postfix": ") ",
     "delete_cmd_prefix": "rm(",
     "library": "var_list.r",
     "varRefreshCmd": "cat(var_dic_list()) "
    }
   },
   "types_to_exclude": [
    "module",
    "function",
    "builtin_function_or_method",
    "instance",
    "_Feature"
   ],
   "window_display": false
  }
 },
 "nbformat": 4,
 "nbformat_minor": 4
}
